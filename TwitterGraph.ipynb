{
 "cells": [
  {
   "cell_type": "markdown",
   "id": "a91a94c2",
   "metadata": {},
   "source": [
    "# Import librarly"
   ]
  },
  {
   "cell_type": "code",
   "execution_count": 1,
   "id": "6543f96d",
   "metadata": {},
   "outputs": [],
   "source": [
    "import json\n",
    "import pandas as pd\n",
    "import networkx as nx\n",
    "import matplotlib.pyplot as plt\n",
    "import matplotlib.colors as mcolors\n",
    "import math\n",
    "import numpy as np"
   ]
  },
  {
   "cell_type": "markdown",
   "id": "1188ced9",
   "metadata": {},
   "source": [
    "# Read dataset"
   ]
  },
  {
   "cell_type": "code",
   "execution_count": 2,
   "id": "2c05800a",
   "metadata": {},
   "outputs": [
    {
     "data": {
      "text/html": [
       "<div>\n",
       "<style scoped>\n",
       "    .dataframe tbody tr th:only-of-type {\n",
       "        vertical-align: middle;\n",
       "    }\n",
       "\n",
       "    .dataframe tbody tr th {\n",
       "        vertical-align: top;\n",
       "    }\n",
       "\n",
       "    .dataframe thead th {\n",
       "        text-align: right;\n",
       "    }\n",
       "</style>\n",
       "<table border=\"1\" class=\"dataframe\">\n",
       "  <thead>\n",
       "    <tr style=\"text-align: right;\">\n",
       "      <th></th>\n",
       "      <th>id</th>\n",
       "      <th>screenName</th>\n",
       "      <th>tags</th>\n",
       "      <th>avatar</th>\n",
       "      <th>followersCount</th>\n",
       "      <th>friendsCount</th>\n",
       "      <th>lang</th>\n",
       "      <th>lastSeen</th>\n",
       "      <th>tweetId</th>\n",
       "      <th>friends</th>\n",
       "    </tr>\n",
       "  </thead>\n",
       "  <tbody>\n",
       "    <tr>\n",
       "      <th>0</th>\n",
       "      <td>\"1969527638\"</td>\n",
       "      <td>\"LlngoMakeEmCum_\"</td>\n",
       "      <td>[ \"#nationaldogday\" ]</td>\n",
       "      <td>\"http://pbs.twimg.com/profile_images/534286217...</td>\n",
       "      <td>319</td>\n",
       "      <td>112</td>\n",
       "      <td>\"en\"</td>\n",
       "      <td>1472271687519</td>\n",
       "      <td>\"769310701580083200\"</td>\n",
       "      <td>[ \"1969574754\", \"1969295556\", \"1969284056\", \"1...</td>\n",
       "    </tr>\n",
       "    <tr>\n",
       "      <th>1</th>\n",
       "      <td>\"51878493\"</td>\n",
       "      <td>\"_notmichelle\"</td>\n",
       "      <td>[ \"#nationaldogday\" ]</td>\n",
       "      <td>\"http://pbs.twimg.com/profile_images/761977602...</td>\n",
       "      <td>275</td>\n",
       "      <td>115</td>\n",
       "      <td>\"en\"</td>\n",
       "      <td>1472270622663</td>\n",
       "      <td>\"769309490038439936\"</td>\n",
       "      <td>[ \"60789485\", \"2420931980\", \"2899776756\", \"127...</td>\n",
       "    </tr>\n",
       "    <tr>\n",
       "      <th>2</th>\n",
       "      <td>\"1393409100\"</td>\n",
       "      <td>\"jesseayye\"</td>\n",
       "      <td>[ \"#narcos\" ]</td>\n",
       "      <td>\"http://pbs.twimg.com/profile_images/713282938...</td>\n",
       "      <td>120</td>\n",
       "      <td>107</td>\n",
       "      <td>\"en\"</td>\n",
       "      <td>1472804144409</td>\n",
       "      <td>\"771622623583186944\"</td>\n",
       "      <td>[ \"86868062\", \"19697415\", \"2998836604\", \"45629...</td>\n",
       "    </tr>\n",
       "    <tr>\n",
       "      <th>3</th>\n",
       "      <td>\"232891415\"</td>\n",
       "      <td>\"MrBrianLloyd\"</td>\n",
       "      <td>[ \"#gloryoutnow\" ]</td>\n",
       "      <td>\"http://pbs.twimg.com/profile_images/133440668...</td>\n",
       "      <td>492</td>\n",
       "      <td>325</td>\n",
       "      <td>\"en\"</td>\n",
       "      <td>1472269186776</td>\n",
       "      <td>\"769308131696467969\"</td>\n",
       "      <td>[ \"361335082\", \"1405248468\", \"24626354\", \"7256...</td>\n",
       "    </tr>\n",
       "    <tr>\n",
       "      <th>4</th>\n",
       "      <td>\"710130422907207680\"</td>\n",
       "      <td>\"sarahdorat_16\"</td>\n",
       "      <td>[ \"#nationaldogday\" ]</td>\n",
       "      <td>\"http://pbs.twimg.com/profile_images/767180520...</td>\n",
       "      <td>128</td>\n",
       "      <td>218</td>\n",
       "      <td>\"en\"</td>\n",
       "      <td>1472271397356</td>\n",
       "      <td>\"769309769144283137\"</td>\n",
       "      <td>[ \"1571896093\", \"768938323612008448\", \"2548665...</td>\n",
       "    </tr>\n",
       "  </tbody>\n",
       "</table>\n",
       "</div>"
      ],
      "text/plain": [
       "                     id         screenName                   tags  \\\n",
       "0          \"1969527638\"  \"LlngoMakeEmCum_\"  [ \"#nationaldogday\" ]   \n",
       "1            \"51878493\"     \"_notmichelle\"  [ \"#nationaldogday\" ]   \n",
       "2          \"1393409100\"        \"jesseayye\"          [ \"#narcos\" ]   \n",
       "3           \"232891415\"     \"MrBrianLloyd\"     [ \"#gloryoutnow\" ]   \n",
       "4  \"710130422907207680\"    \"sarahdorat_16\"  [ \"#nationaldogday\" ]   \n",
       "\n",
       "                                              avatar  followersCount  \\\n",
       "0  \"http://pbs.twimg.com/profile_images/534286217...             319   \n",
       "1  \"http://pbs.twimg.com/profile_images/761977602...             275   \n",
       "2  \"http://pbs.twimg.com/profile_images/713282938...             120   \n",
       "3  \"http://pbs.twimg.com/profile_images/133440668...             492   \n",
       "4  \"http://pbs.twimg.com/profile_images/767180520...             128   \n",
       "\n",
       "   friendsCount  lang       lastSeen               tweetId  \\\n",
       "0           112  \"en\"  1472271687519  \"769310701580083200\"   \n",
       "1           115  \"en\"  1472270622663  \"769309490038439936\"   \n",
       "2           107  \"en\"  1472804144409  \"771622623583186944\"   \n",
       "3           325  \"en\"  1472269186776  \"769308131696467969\"   \n",
       "4           218  \"en\"  1472271397356  \"769309769144283137\"   \n",
       "\n",
       "                                             friends  \n",
       "0  [ \"1969574754\", \"1969295556\", \"1969284056\", \"1...  \n",
       "1  [ \"60789485\", \"2420931980\", \"2899776756\", \"127...  \n",
       "2  [ \"86868062\", \"19697415\", \"2998836604\", \"45629...  \n",
       "3  [ \"361335082\", \"1405248468\", \"24626354\", \"7256...  \n",
       "4  [ \"1571896093\", \"768938323612008448\", \"2548665...  "
      ]
     },
     "execution_count": 2,
     "metadata": {},
     "output_type": "execute_result"
    }
   ],
   "source": [
    "# Do not separate by a comma if there is no space after the comma\n",
    "# If you use a regular expression as a delimiter, you need to specify the Python engine\n",
    "twitterData = pd.read_csv(\"data.csv\", sep=',(?=\\S)', engine='python')\n",
    "\n",
    "twitterData.head()"
   ]
  },
  {
   "cell_type": "markdown",
   "id": "0c0face8",
   "metadata": {},
   "source": [
    "## Modify dataset"
   ]
  },
  {
   "cell_type": "code",
   "execution_count": 3,
   "id": "d4b88241",
   "metadata": {},
   "outputs": [
    {
     "data": {
      "text/html": [
       "<div>\n",
       "<style scoped>\n",
       "    .dataframe tbody tr th:only-of-type {\n",
       "        vertical-align: middle;\n",
       "    }\n",
       "\n",
       "    .dataframe tbody tr th {\n",
       "        vertical-align: top;\n",
       "    }\n",
       "\n",
       "    .dataframe thead th {\n",
       "        text-align: right;\n",
       "    }\n",
       "</style>\n",
       "<table border=\"1\" class=\"dataframe\">\n",
       "  <thead>\n",
       "    <tr style=\"text-align: right;\">\n",
       "      <th></th>\n",
       "      <th>id</th>\n",
       "      <th>tags</th>\n",
       "      <th>followersCount</th>\n",
       "      <th>friendsCount</th>\n",
       "      <th>friends</th>\n",
       "    </tr>\n",
       "  </thead>\n",
       "  <tbody>\n",
       "    <tr>\n",
       "      <th>0</th>\n",
       "      <td>1969527638</td>\n",
       "      <td>[#nationaldogday]</td>\n",
       "      <td>319</td>\n",
       "      <td>112</td>\n",
       "      <td>[1969574754, 1969295556, 1969284056, 196961221...</td>\n",
       "    </tr>\n",
       "    <tr>\n",
       "      <th>1</th>\n",
       "      <td>51878493</td>\n",
       "      <td>[#nationaldogday]</td>\n",
       "      <td>275</td>\n",
       "      <td>115</td>\n",
       "      <td>[60789485, 2420931980, 2899776756, 127410795, ...</td>\n",
       "    </tr>\n",
       "    <tr>\n",
       "      <th>2</th>\n",
       "      <td>1393409100</td>\n",
       "      <td>[#narcos]</td>\n",
       "      <td>120</td>\n",
       "      <td>107</td>\n",
       "      <td>[86868062, 19697415, 2998836604, 456295047, 74...</td>\n",
       "    </tr>\n",
       "    <tr>\n",
       "      <th>3</th>\n",
       "      <td>232891415</td>\n",
       "      <td>[#gloryoutnow]</td>\n",
       "      <td>492</td>\n",
       "      <td>325</td>\n",
       "      <td>[361335082, 1405248468, 24626354, 725675895965...</td>\n",
       "    </tr>\n",
       "    <tr>\n",
       "      <th>4</th>\n",
       "      <td>710130422907207680</td>\n",
       "      <td>[#nationaldogday]</td>\n",
       "      <td>128</td>\n",
       "      <td>218</td>\n",
       "      <td>[1571896093, 768938323612008448, 2548665930, 3...</td>\n",
       "    </tr>\n",
       "  </tbody>\n",
       "</table>\n",
       "</div>"
      ],
      "text/plain": [
       "                   id               tags  followersCount  friendsCount  \\\n",
       "0          1969527638  [#nationaldogday]             319           112   \n",
       "1            51878493  [#nationaldogday]             275           115   \n",
       "2          1393409100          [#narcos]             120           107   \n",
       "3           232891415     [#gloryoutnow]             492           325   \n",
       "4  710130422907207680  [#nationaldogday]             128           218   \n",
       "\n",
       "                                             friends  \n",
       "0  [1969574754, 1969295556, 1969284056, 196961221...  \n",
       "1  [60789485, 2420931980, 2899776756, 127410795, ...  \n",
       "2  [86868062, 19697415, 2998836604, 456295047, 74...  \n",
       "3  [361335082, 1405248468, 24626354, 725675895965...  \n",
       "4  [1571896093, 768938323612008448, 2548665930, 3...  "
      ]
     },
     "execution_count": 3,
     "metadata": {},
     "output_type": "execute_result"
    }
   ],
   "source": [
    "# 1. removing unnecessary double quotes\n",
    "twitterData[\"id\"] = twitterData[\"id\"].apply(lambda x: x[1:-1])\n",
    "    \n",
    "# 2. The list of friends (people followed) is saved as a single string. To convert it to a list of friend IDs, use a JSON loader.\n",
    "for column in [\"tags\", \"friends\"]:\n",
    "    twitterData[column] = twitterData[column].apply(lambda x: json.loads(x))\n",
    "\n",
    "# 3. drop unused column for this project\n",
    "twitterData = twitterData.drop([\"lang\", 'avatar', 'tweetId', 'screenName', 'lastSeen'], axis=1)\n",
    "\n",
    "twitterData.head()"
   ]
  },
  {
   "cell_type": "code",
   "execution_count": 4,
   "id": "8c680c43",
   "metadata": {},
   "outputs": [
    {
     "name": "stdout",
     "output_type": "stream",
     "text": [
      "<class 'pandas.core.frame.DataFrame'>\n",
      "RangeIndex: 40000 entries, 0 to 39999\n",
      "Data columns (total 5 columns):\n",
      " #   Column          Non-Null Count  Dtype \n",
      "---  ------          --------------  ----- \n",
      " 0   id              40000 non-null  object\n",
      " 1   tags            40000 non-null  object\n",
      " 2   followersCount  40000 non-null  int64 \n",
      " 3   friendsCount    40000 non-null  int64 \n",
      " 4   friends         40000 non-null  object\n",
      "dtypes: int64(2), object(3)\n",
      "memory usage: 1.5+ MB\n"
     ]
    }
   ],
   "source": [
    "twitterData.info()"
   ]
  },
  {
   "cell_type": "markdown",
   "id": "95dc1c59",
   "metadata": {},
   "source": [
    "# Prerpocess"
   ]
  },
  {
   "cell_type": "code",
   "execution_count": 5,
   "id": "63354045",
   "metadata": {},
   "outputs": [
    {
     "data": {
      "text/html": [
       "<div>\n",
       "<style scoped>\n",
       "    .dataframe tbody tr th:only-of-type {\n",
       "        vertical-align: middle;\n",
       "    }\n",
       "\n",
       "    .dataframe tbody tr th {\n",
       "        vertical-align: top;\n",
       "    }\n",
       "\n",
       "    .dataframe thead th {\n",
       "        text-align: right;\n",
       "    }\n",
       "</style>\n",
       "<table border=\"1\" class=\"dataframe\">\n",
       "  <thead>\n",
       "    <tr style=\"text-align: right;\">\n",
       "      <th></th>\n",
       "      <th>followersCount</th>\n",
       "      <th>friendsCount</th>\n",
       "    </tr>\n",
       "  </thead>\n",
       "  <tbody>\n",
       "    <tr>\n",
       "      <th>count</th>\n",
       "      <td>4.000000e+04</td>\n",
       "      <td>40000.000000</td>\n",
       "    </tr>\n",
       "    <tr>\n",
       "      <th>mean</th>\n",
       "      <td>3.692349e+03</td>\n",
       "      <td>919.101450</td>\n",
       "    </tr>\n",
       "    <tr>\n",
       "      <th>std</th>\n",
       "      <td>9.136179e+04</td>\n",
       "      <td>3417.849318</td>\n",
       "    </tr>\n",
       "    <tr>\n",
       "      <th>min</th>\n",
       "      <td>1.010000e+02</td>\n",
       "      <td>101.000000</td>\n",
       "    </tr>\n",
       "    <tr>\n",
       "      <th>25%</th>\n",
       "      <td>2.420000e+02</td>\n",
       "      <td>253.000000</td>\n",
       "    </tr>\n",
       "    <tr>\n",
       "      <th>50%</th>\n",
       "      <td>4.400000e+02</td>\n",
       "      <td>423.000000</td>\n",
       "    </tr>\n",
       "    <tr>\n",
       "      <th>75%</th>\n",
       "      <td>9.240000e+02</td>\n",
       "      <td>801.000000</td>\n",
       "    </tr>\n",
       "    <tr>\n",
       "      <th>max</th>\n",
       "      <td>1.476555e+07</td>\n",
       "      <td>238749.000000</td>\n",
       "    </tr>\n",
       "  </tbody>\n",
       "</table>\n",
       "</div>"
      ],
      "text/plain": [
       "       followersCount   friendsCount\n",
       "count    4.000000e+04   40000.000000\n",
       "mean     3.692349e+03     919.101450\n",
       "std      9.136179e+04    3417.849318\n",
       "min      1.010000e+02     101.000000\n",
       "25%      2.420000e+02     253.000000\n",
       "50%      4.400000e+02     423.000000\n",
       "75%      9.240000e+02     801.000000\n",
       "max      1.476555e+07  238749.000000"
      ]
     },
     "execution_count": 5,
     "metadata": {},
     "output_type": "execute_result"
    }
   ],
   "source": [
    "# friends: the list of IDs the user follows\n",
    "# friendsCount: the length of the friends list\n",
    "twitterData.describe()"
   ]
  },
  {
   "cell_type": "code",
   "execution_count": 6,
   "id": "d1ba462f",
   "metadata": {},
   "outputs": [],
   "source": [
    "# create a dictionary to find index from id\n",
    "id_index_dict = {}\n",
    "for index, row in twitterData.iterrows():\n",
    "    id_index_dict[row['id']] = index"
   ]
  },
  {
   "cell_type": "code",
   "execution_count": 7,
   "id": "d4d85e6b",
   "metadata": {},
   "outputs": [],
   "source": [
    "# show the number of nodes, edges and the number of communities\n",
    "def print_graph_summary(G):\n",
    "    print(\"Number of nodes: {}\".format(G.number_of_nodes()))\n",
    "    print(\"Number of edges: {}\".format(G.number_of_edges()))\n",
    "    # detect communities\n",
    "    communities = list(nx.community.greedy_modularity_communities(G))\n",
    "    print(\"Number of communities: {}\".format(len(communities)))\n",
    "    return communities"
   ]
  },
  {
   "cell_type": "code",
   "execution_count": 8,
   "id": "a3e7a530",
   "metadata": {},
   "outputs": [
    {
     "name": "stdout",
     "output_type": "stream",
     "text": [
      "Number of nodes: 33734\n",
      "Number of edges: 184548\n"
     ]
    }
   ],
   "source": [
    "# create directed graph: the node is the user, the edge is the connection between users\n",
    "G = nx.DiGraph()\n",
    "\n",
    "for _, row in twitterData.iterrows():\n",
    "    for friend in row['friends']:\n",
    "        # ignore the users who are not in this dataset\n",
    "        if friend in id_index_dict:\n",
    "            G.add_edge(row['id'], friend)\n",
    "            \n",
    "# show the number of nodes and edges\n",
    "print(\"Number of nodes: {}\".format(G.number_of_nodes()))\n",
    "print(\"Number of edges: {}\".format(G.number_of_edges()))"
   ]
  },
  {
   "cell_type": "markdown",
   "id": "09329a92",
   "metadata": {},
   "source": [
    "### Degree-based filtering:"
   ]
  },
  {
   "cell_type": "code",
   "execution_count": 9,
   "id": "c4036b5e",
   "metadata": {
    "scrolled": true
   },
   "outputs": [
    {
     "name": "stdout",
     "output_type": "stream",
     "text": [
      "Number of nodes: 1633\n",
      "Number of edges: 25328\n",
      "Number of communities: 30\n"
     ]
    }
   ],
   "source": [
    "min_in_degree = 20\n",
    "filtered_nodes = [node for node, in_degree in G.in_degree() if in_degree >= min_in_degree]\n",
    "G = G.subgraph(filtered_nodes)\n",
    "\n",
    "communities = print_graph_summary(G)"
   ]
  },
  {
   "cell_type": "markdown",
   "id": "351348b0",
   "metadata": {},
   "source": [
    "### K-Core Decomposition:"
   ]
  },
  {
   "cell_type": "code",
   "execution_count": null,
   "id": "c744d453",
   "metadata": {},
   "outputs": [],
   "source": [
    "k_core = 20\n",
    "G = nx.k_core(G, k=k_core)\n",
    "\n",
    "communities = print_graph_summary(G)"
   ]
  },
  {
   "cell_type": "markdown",
   "id": "562a6a44",
   "metadata": {},
   "source": [
    "# Network Characterization"
   ]
  },
  {
   "cell_type": "code",
   "execution_count": null,
   "id": "5d6d71cb",
   "metadata": {},
   "outputs": [],
   "source": [
    "# print number of nodes and edges with format\n",
    "print(\"Number of nodes: {}\\n\".format(G.number_of_nodes()))\n",
    "print(\"Number of edges: {}\\n\".format(G.number_of_edges()))"
   ]
  },
  {
   "cell_type": "code",
   "execution_count": null,
   "id": "1b3ceb24",
   "metadata": {},
   "outputs": [],
   "source": [
    "# find the five nodes with the highest clustering coefficients with format\n",
    "hi_clustring_coeff = sorted(nx.clustering(G).items(), key=lambda x: x[1], reverse=True)[:5]\n",
    "\n",
    "# find the five nodes with the highest betweenness centrality with format\n",
    "hi_betweeness_cen = sorted(nx.betweenness_centrality(G).items(), key=lambda x: x[1], reverse=True)[:5]"
   ]
  },
  {
   "cell_type": "code",
   "execution_count": null,
   "id": "08da4be1",
   "metadata": {
    "scrolled": true
   },
   "outputs": [],
   "source": [
    "# enumerate the five nodes with the highest clustering coefficients\n",
    "for i, (node, coeff) in enumerate(hi_clustring_coeff):\n",
    "    # get index from id\n",
    "    index = id_index_dict[node]\n",
    "    print(\"{}. clustering coefficient: {}\".format(i+1, coeff))\n",
    "    # print the row of the node\n",
    "    print(twitterData.iloc[index])\n",
    "    print()"
   ]
  },
  {
   "cell_type": "code",
   "execution_count": null,
   "id": "dee0fead",
   "metadata": {
    "scrolled": true
   },
   "outputs": [],
   "source": [
    "# enumerate the five nodes with the highest betweenness centrality\n",
    "for i, (node, betweenness) in enumerate(hi_betweeness_cen):\n",
    "    # get index from id\n",
    "    index = id_index_dict[node]\n",
    "    print(\"{}. betweenness centrality: {}\".format(i+1, betweenness))\n",
    "    # print the row of the node\n",
    "    print(twitterData.iloc[index])\n",
    "    print()"
   ]
  },
  {
   "cell_type": "code",
   "execution_count": null,
   "id": "ccd32288",
   "metadata": {},
   "outputs": [],
   "source": [
    "# print number of connected components with format\n",
    "print(\"Number of connected components: {}\".format(nx.number_connected_components(G.to_undirected())))\n",
    "# print the diameter of the graph with format\n",
    "for i, component in enumerate(nx.connected_components(G.to_undirected())):\n",
    "    print(\"Diameter of the component {}: {}\".format(i + 1, nx.diameter(G.subgraph(component).to_undirected())))"
   ]
  },
  {
   "cell_type": "markdown",
   "id": "082f81ca",
   "metadata": {},
   "source": [
    "### Visualization"
   ]
  },
  {
   "cell_type": "code",
   "execution_count": null,
   "id": "784d7c6d",
   "metadata": {},
   "outputs": [],
   "source": [
    "# combine the nodes in communities\n",
    "community_dict = {node: -1 for node in G.nodes()}\n",
    "community_dict = {node: cid for cid, community in enumerate(communities) for node in community}\n",
    "\n",
    "# set the color of nodes\n",
    "colors = list(mcolors.TABLEAU_COLORS.keys()) + list(mcolors.CSS4_COLORS.keys())\n",
    "node_color = [colors[community_dict[node] % len(colors)] for node in G.nodes()]"
   ]
  },
  {
   "cell_type": "code",
   "execution_count": null,
   "id": "acd201e6",
   "metadata": {},
   "outputs": [],
   "source": [
    "nx.draw(G, node_color=node_color, with_labels=False, node_size=10, alpha=0.5, width=0.1)\n",
    "plt.show()"
   ]
  },
  {
   "cell_type": "code",
   "execution_count": null,
   "id": "13d0d945",
   "metadata": {},
   "outputs": [],
   "source": [
    "# calculate the number of rows and columns of subplots\n",
    "n_communities = len(communities)\n",
    "n_columns = math.ceil(math.sqrt(n_communities))\n",
    "n_rows = math.ceil(n_communities / n_columns)\n",
    "\n",
    "# set the size of subplots\n",
    "fig, axes = plt.subplots(nrows=n_rows, ncols=n_columns, figsize=(3 * n_columns, 3 * n_rows))\n",
    "\n",
    "# draw subgraphs\n",
    "for i, community in enumerate(communities):\n",
    "    subgraph = G.subgraph(community)\n",
    "\n",
    "    # set the color\n",
    "    subgraph_node_color = [colors[community_dict[node] % len(colors)] for node in subgraph.nodes()]\n",
    "\n",
    "    ax = axes[i // n_columns, i % n_columns]\n",
    "    ax.set_title(f\"Community {i + 1}\")\n",
    "    nx.draw(subgraph, node_color=subgraph_node_color, with_labels=False, node_size=10, alpha=0.5, width=0.1, ax=ax)\n",
    "\n",
    "# delete empty subplots\n",
    "for i in range(n_communities, n_rows * n_columns):\n",
    "    fig.delaxes(axes[i // n_columns, i % n_columns])\n",
    "\n",
    "# show the graphs\n",
    "plt.tight_layout()\n",
    "plt.show()\n"
   ]
  },
  {
   "cell_type": "code",
   "execution_count": null,
   "id": "6210c279",
   "metadata": {},
   "outputs": [],
   "source": [
    "# create a list of graph of all communities\n",
    "graphs = [G.subgraph(community) for community in communities]\n",
    "\n",
    "# community_tags: the list of sets of tags in each community\n",
    "# community_ratios: the list of ratios of tags in each community\n",
    "community_tags = []\n",
    "community_ratios = []\n",
    "\n",
    "for i, graph in enumerate(graphs):\n",
    "    # print the summary of the graph\n",
    "    print(f\"Community {i + 1}\")\n",
    "    print(\"\\tNumber of nodes: {}\".format(graph.number_of_nodes()))\n",
    "    print(\"\\tNumber of edges: {}\".format(graph.number_of_edges()))\n",
    "\n",
    "    # using id_index_dict, get the index of nodes in the graph\n",
    "    # then, get the tags of the nodes\n",
    "    # finally, get the set of tags in the graph\n",
    "    tags = set()\n",
    "    for node in graph.nodes():\n",
    "        tags.update(twitterData['tags'][id_index_dict[node]])\n",
    "        \n",
    "    # count the number of tags in the graph\n",
    "    tag_count = {tag: 0 for tag in tags}\n",
    "    total_count = 0\n",
    "    for node in graph.nodes():\n",
    "        for tag in twitterData['tags'][id_index_dict[node]]:\n",
    "            tag_count[tag] += 1\n",
    "            total_count += 1\n",
    "\n",
    "    # sort the tags by the number of appearance\n",
    "    tag_count = sorted(tag_count.items(), key=lambda x: x[1], reverse=True)\n",
    "    \n",
    "    # display the top 3 tags and their ratios\n",
    "    top_tags = []\n",
    "    top_ratios = []\n",
    "    for tag, count in tag_count[:3]:\n",
    "        ratio = count / total_count * 100\n",
    "        print(f\"\\t- {tag}: {ratio:.2f}%\")\n",
    "        top_tags.append(tag)\n",
    "        top_ratios.append(ratio)\n",
    "\n",
    "    if len(top_tags) < 3:\n",
    "        top_tags = top_tags + [\"\", \"\"]\n",
    "        top_ratios = top_ratios + [0, 0]\n",
    "    community_tags.append(top_tags)\n",
    "    community_ratios.append(top_ratios)\n",
    "\n",
    "    print()"
   ]
  },
  {
   "cell_type": "code",
   "execution_count": null,
   "id": "f4003121",
   "metadata": {},
   "outputs": [],
   "source": [
    "# visualization\n",
    "n_communities = len(communities)\n",
    "bar_width = 0.3\n",
    "index = np.arange(3)\n",
    "\n",
    "fig, axes = plt.subplots(nrows=n_rows, ncols=n_columns, figsize=(4 * n_columns, 4 * n_rows))\n",
    "\n",
    "for i in range(n_communities):\n",
    "    ax = axes[i // n_columns, i % n_columns]\n",
    "    ax.bar(index - bar_width / 2, community_ratios[i], width=bar_width, tick_label=community_tags[i])\n",
    "    ax.set_title(f\"Community {i + 1}\")\n",
    "    ax.set_ylim(0, 110)  #  fix the range of y-axis\n",
    "    #ax.set_xlabel('Hashtags')\n",
    "    ax.set_ylabel('Occurrence Ratio (%)')\n",
    "    # rotate the labels of x-axis for readability\n",
    "    ax.tick_params(axis='x', rotation=45)\n",
    "\n",
    "# delete empty subplots\n",
    "for i in range(n_communities, n_rows * n_columns):\n",
    "    fig.delaxes(axes[i // n_columns, i % n_columns])\n",
    "\n",
    "plt.tight_layout()\n",
    "plt.show()"
   ]
  }
 ],
 "metadata": {
  "kernelspec": {
   "display_name": "Python 3 (ipykernel)",
   "language": "python",
   "name": "python3"
  },
  "language_info": {
   "codemirror_mode": {
    "name": "ipython",
    "version": 3
   },
   "file_extension": ".py",
   "mimetype": "text/x-python",
   "name": "python",
   "nbconvert_exporter": "python",
   "pygments_lexer": "ipython3",
   "version": "3.9.6"
  }
 },
 "nbformat": 4,
 "nbformat_minor": 5
}
